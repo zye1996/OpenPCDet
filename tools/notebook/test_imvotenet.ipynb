{
 "cells": [
  {
   "cell_type": "code",
   "execution_count": 1,
   "metadata": {
    "collapsed": true
   },
   "outputs": [],
   "source": [
    "%load_ext autoreload\n",
    "%autoreload 2"
   ]
  },
  {
   "cell_type": "code",
   "execution_count": 2,
   "metadata": {
    "pycharm": {
     "name": "#%%\n"
    }
   },
   "outputs": [],
   "source": [
    "from pcdet.config import cfg, cfg_from_list, cfg_from_yaml_file, log_config_to_file\n",
    "from pcdet.models.backbones_3d.pointnet2_backbone import PointNet2MSG_FPS\n",
    "from pcdet.models.backbones_3d.pfe import VoteModule\n",
    "from pcdet.models import build_network\n",
    "from pcdet.models.dense_heads.point_head_box_3dssd import PointHeadBox3DSSD\n",
    "from pcdet.datasets import build_dataloader\n",
    "from pcdet.utils import common_utils\n",
    "import torch\n",
    "import numpy as np"
   ]
  },
  {
   "cell_type": "code",
   "execution_count": 3,
   "metadata": {
    "pycharm": {
     "name": "#%%\n"
    }
   },
   "outputs": [
    {
     "name": "stdout",
     "output_type": "stream",
     "text": [
      "{'ROOT_DIR': PosixPath('/home/yzy/PycharmProjects/OpenPCDet'), 'LOCAL_RANK': 0, 'CLASS_NAMES': ['Car', 'Pedestrian', 'Cyclist'], 'DATA_CONFIG': {'DATASET': 'KittiDatasetImVote', 'DATA_PATH': '/home/yzy/PycharmProjects/OpenPCDet/data/kitti', 'POINT_CLOUD_RANGE': [0, -40, -3, 70.4, 40, 1], 'DATA_SPLIT': {'train': 'train', 'test': 'val'}, 'INFO_PATH': {'train': ['kitti_infos_train.pkl'], 'test': ['kitti_infos_val.pkl']}, 'FOV_POINTS_ONLY': True, 'DATA_AUGMENTOR': {'DISABLE_AUG_LIST': ['placeholder'], 'AUG_CONFIG_LIST': [{'NAME': 'gt_sampling', 'USE_ROAD_PLANE': True, 'DB_INFO_PATH': ['kitti_dbinfos_train.pkl'], 'PREPARE': {'filter_by_min_points': ['Car:5', 'Pedestrian:5', 'Cyclist:5'], 'filter_by_difficulty': [-1]}, 'SAMPLE_GROUPS': ['Car:20', 'Pedestrian:15', 'Cyclist:15'], 'NUM_POINT_FEATURES': 4, 'DATABASE_WITH_FAKELIDAR': False, 'REMOVE_EXTRA_WIDTH': [0.0, 0.0, 0.0], 'LIMIT_WHOLE_SCENE': True}, {'NAME': 'random_world_flip', 'ALONG_AXIS_LIST': ['x']}, {'NAME': 'random_world_rotation', 'WORLD_ROT_ANGLE': [-0.78539816, 0.78539816]}, {'NAME': 'random_world_scaling', 'WORLD_SCALE_RANGE': [0.95, 1.05]}]}, 'POINT_FEATURE_ENCODING': {'encoding_type': 'absolute_coordinates_encoding', 'used_feature_list': ['x', 'y', 'z', 'intensity'], 'src_feature_list': ['x', 'y', 'z', 'intensity']}, 'DATA_PROCESSOR': [{'NAME': 'mask_points_and_boxes_outside_range', 'REMOVE_OUTSIDE_BOXES': True}, {'NAME': 'sample_points', 'NUM_POINTS': {'train': 16384, 'test': 16384}}, {'NAME': 'shuffle_points', 'SHUFFLE_ENABLED': {'train': True, 'test': False}}], '_BASE_CONFIG_': '/home/yzy/PycharmProjects/OpenPCDet/tools/cfgs/dataset_configs/kitti_dataset_imvote.yaml'}, 'MODEL': {'NAME': 'SSD3D', 'BACKBONE_3D': {'NAME': 'PointNet2MSG_FPS', 'SA_CONFIG': {'NPOINTS': [[4096], [512], [256, 256]], 'RADIUS': [[0.2, 0.4, 0.8], [0.4, 0.8, 1.6], [1.6, 3.2, 4.8]], 'NSAMPLE': [[32, 32, 64], [32, 32, 64], [32, 32, 32]], 'MLPS': [[[16, 16, 32], [16, 16, 32], [32, 32, 64]], [[64, 64, 128], [64, 64, 128], [64, 96, 128]], [[128, 128, 256], [128, 192, 256], [128, 256, 256]]], 'DILATED_GROUP': [True, True, True], 'FPS_MOD': [['D-FPS'], ['FS'], ['F-FPS', 'D-FPS']], 'FPS_SAMPLE_RANGE': [[-1], [-1], [512, -1]]}, 'AGGREGATION_CHANNELS': [64, 128, 256], 'FP_MLPS': []}, 'PFE': {'NAME': 'ImVoteModule', 'NUM_POINTS': [256], 'NUM_INPUT_FEATURES': 256, 'NUM_IMG_FEATURES': 256, 'MLPS': [128], 'VOTE_RANGE': [3.0, 3.0, 2.0], 'WITH_RES_FEATURE': False, 'AGGREGATION_MLPS': [[256, 256, 256, 512], [256, 256, 512, 1024]], 'AGGREGATION_OUT': 512, 'AGGREGATION_RADIUS': [4.8, 6.4], 'AGGREGATION_NSAMPLES': [16, 32]}, 'POINT_HEAD': {'NAME': 'PointHeadBoxImVote', 'CLS_FC': [256, 256], 'REG_FC': [256, 256], 'NUM_IMG_FEATURES': 256, 'CLASS_AGNOSTIC': False, 'USE_POINT_FEATURES_BEFORE_FUSION': False, 'IMG_WEIGHT': 0.3, 'POINT_WEIGHT': 0.3, 'FUSION_WEIGHT': 0.4, 'TARGET_CONFIG': {'GT_EXTRA_WIDTH': [0.2, 0.2, 0.2], 'BOX_CODER': 'PointResidual_BinOri_Coder', 'BOX_CODER_CONFIG': {'use_mean_size': True, 'mean_size': [[3.9, 1.6, 1.56], [0.8, 0.6, 1.73], [1.76, 0.6, 1.73]]}}, 'LOSS_CONFIG': {'LOSS_REG': 'WeightedSmoothL1Loss', 'CORNER_LOSS_REGULARIZATION': True, 'CENTERNESS_REGULARIZATION': True, 'LOSS_WEIGHTS': {'point_cls_weight': 1.0, 'point_box_weight': 1.0, 'corner_weight': 1.0, 'code_weights': [1.0, 1.0, 1.0, 1.0, 1.0, 1.0]}}}, 'POST_PROCESSING': {'RECALL_THRESH_LIST': [0.3, 0.5, 0.7], 'SCORE_THRESH': 0.1, 'OUTPUT_RAW_SCORE': False, 'EVAL_METRIC': 'kitti', 'NMS_CONFIG': {'MULTI_CLASSES_NMS': False, 'NMS_TYPE': 'nms_gpu', 'NMS_THRESH': 0.1, 'NMS_PRE_MAXSIZE': 4096, 'NMS_POST_MAXSIZE': 500}}}, 'OPTIMIZATION': {'BATCH_SIZE_PER_GPU': 12, 'NUM_EPOCHS': 120, 'OPTIMIZER': 'adam_onecycle', 'LR': 0.01, 'WEIGHT_DECAY': 0.01, 'MOMENTUM': 0.9, 'MOMS': [0.95, 0.85], 'PCT_START': 0.4, 'DIV_FACTOR': 10, 'DECAY_STEP_LIST': [80, 120], 'LR_DECAY': 0.1, 'LR_CLIP': 1e-07, 'LR_WARMUP': False, 'WARMUP_EPOCH': 1, 'GRAD_NORM_CLIP': 10}}\n"
     ]
    }
   ],
   "source": [
    "cfg_file = \"/home/yzy/PycharmProjects/OpenPCDet/tools/cfgs/kitti_models/3dssd_imvote.yaml\"\n",
    "cfg_from_yaml_file(cfg_file, cfg)\n",
    "print(cfg)\n",
    "dataset, dataloader, sampler = build_dataloader(cfg['DATA_CONFIG'],\n",
    "                                                class_names=['Car', 'Pedestrian', 'Cyclist'],\n",
    "                                                batch_size=2,\n",
    "                                                dist=False)"
   ]
  },
  {
   "cell_type": "code",
   "execution_count": 4,
   "metadata": {
    "pycharm": {
     "name": "#%%\n"
    }
   },
   "outputs": [
    {
     "data": {
      "text/plain": "<pcdet.datasets.kitti.kitti_dataset_imvote.KittiDatasetImVote at 0x7f979f9fee50>"
     },
     "execution_count": 4,
     "metadata": {},
     "output_type": "execute_result"
    }
   ],
   "source": [
    "dataset"
   ]
  },
  {
   "cell_type": "code",
   "execution_count": 5,
   "metadata": {
    "pycharm": {
     "name": "#%%\n"
    }
   },
   "outputs": [
    {
     "name": "stdout",
     "output_type": "stream",
     "text": [
      "{'Detector3DTemplate': <class 'pcdet.models.detectors.detector3d_template.Detector3DTemplate'>, 'SECONDNet': <class 'pcdet.models.detectors.second_net.SECONDNet'>, 'PartA2Net': <class 'pcdet.models.detectors.PartA2_net.PartA2Net'>, 'PVRCNN': <class 'pcdet.models.detectors.pv_rcnn.PVRCNN'>, 'PointPillar': <class 'pcdet.models.detectors.pointpillar.PointPillar'>, 'PointRCNN': <class 'pcdet.models.detectors.point_rcnn.PointRCNN'>, 'SSD3D': <class 'pcdet.models.detectors.ssd3d.SSD3D'>, 'SSD3D_imvote': <class 'pcdet.models.detectors.ssd3d_imvote.SSD3D_imvote'>}\n",
      "[4, 16, 16, 32]\n",
      "[4, 16, 16, 32]\n",
      "[4, 32, 32, 64]\n",
      "[67, 64, 64, 128]\n",
      "[67, 64, 64, 128]\n",
      "[67, 64, 96, 128]\n",
      "[131, 128, 128, 256]\n",
      "[131, 128, 192, 256]\n",
      "[131, 128, 256, 256]\n",
      "[[256, 256, 256, 512], [256, 256, 512, 1024]]\n",
      "[259, 256, 256, 512]\n",
      "[259, 256, 512, 1024]\n",
      "[[256, 256, 256, 512], [256, 256, 512, 1024]]\n",
      "[259, 256, 256, 512]\n",
      "[259, 256, 512, 1024]\n",
      "[[256, 256, 256, 512], [256, 256, 512, 1024]]\n",
      "[515, 256, 256, 512]\n",
      "[515, 256, 512, 1024]\n"
     ]
    },
    {
     "data": {
      "text/plain": "SSD3D(\n  (vfe): None\n  (backbone_3d): PointNet2MSG_FPS(\n    (SA_modules): ModuleList(\n      (0): PointnetSAModuleMSG_FPS(\n        (groupers): ModuleList(\n          (0): QueryAndGroup()\n          (1): QueryAndGroup()\n          (2): QueryAndGroup()\n        )\n        (mlps): ModuleList(\n          (0): Sequential(\n            (0): Conv2d(4, 16, kernel_size=(1, 1), stride=(1, 1), bias=False)\n            (1): BatchNorm2d(16, eps=1e-05, momentum=0.1, affine=True, track_running_stats=True)\n            (2): ReLU()\n            (3): Conv2d(16, 16, kernel_size=(1, 1), stride=(1, 1), bias=False)\n            (4): BatchNorm2d(16, eps=1e-05, momentum=0.1, affine=True, track_running_stats=True)\n            (5): ReLU()\n            (6): Conv2d(16, 32, kernel_size=(1, 1), stride=(1, 1), bias=False)\n            (7): BatchNorm2d(32, eps=1e-05, momentum=0.1, affine=True, track_running_stats=True)\n            (8): ReLU()\n          )\n          (1): Sequential(\n            (0): Conv2d(4, 16, kernel_size=(1, 1), stride=(1, 1), bias=False)\n            (1): BatchNorm2d(16, eps=1e-05, momentum=0.1, affine=True, track_running_stats=True)\n            (2): ReLU()\n            (3): Conv2d(16, 16, kernel_size=(1, 1), stride=(1, 1), bias=False)\n            (4): BatchNorm2d(16, eps=1e-05, momentum=0.1, affine=True, track_running_stats=True)\n            (5): ReLU()\n            (6): Conv2d(16, 32, kernel_size=(1, 1), stride=(1, 1), bias=False)\n            (7): BatchNorm2d(32, eps=1e-05, momentum=0.1, affine=True, track_running_stats=True)\n            (8): ReLU()\n          )\n          (2): Sequential(\n            (0): Conv2d(4, 32, kernel_size=(1, 1), stride=(1, 1), bias=False)\n            (1): BatchNorm2d(32, eps=1e-05, momentum=0.1, affine=True, track_running_stats=True)\n            (2): ReLU()\n            (3): Conv2d(32, 32, kernel_size=(1, 1), stride=(1, 1), bias=False)\n            (4): BatchNorm2d(32, eps=1e-05, momentum=0.1, affine=True, track_running_stats=True)\n            (5): ReLU()\n            (6): Conv2d(32, 64, kernel_size=(1, 1), stride=(1, 1), bias=False)\n            (7): BatchNorm2d(64, eps=1e-05, momentum=0.1, affine=True, track_running_stats=True)\n            (8): ReLU()\n          )\n        )\n        (points_sampler): Points_Sampler(\n          (samplers): ModuleList(\n            (0): DFPS_Sampler()\n          )\n        )\n      )\n      (1): PointnetSAModuleMSG_FPS(\n        (groupers): ModuleList(\n          (0): QueryAndGroup()\n          (1): QueryAndGroup()\n          (2): QueryAndGroup()\n        )\n        (mlps): ModuleList(\n          (0): Sequential(\n            (0): Conv2d(67, 64, kernel_size=(1, 1), stride=(1, 1), bias=False)\n            (1): BatchNorm2d(64, eps=1e-05, momentum=0.1, affine=True, track_running_stats=True)\n            (2): ReLU()\n            (3): Conv2d(64, 64, kernel_size=(1, 1), stride=(1, 1), bias=False)\n            (4): BatchNorm2d(64, eps=1e-05, momentum=0.1, affine=True, track_running_stats=True)\n            (5): ReLU()\n            (6): Conv2d(64, 128, kernel_size=(1, 1), stride=(1, 1), bias=False)\n            (7): BatchNorm2d(128, eps=1e-05, momentum=0.1, affine=True, track_running_stats=True)\n            (8): ReLU()\n          )\n          (1): Sequential(\n            (0): Conv2d(67, 64, kernel_size=(1, 1), stride=(1, 1), bias=False)\n            (1): BatchNorm2d(64, eps=1e-05, momentum=0.1, affine=True, track_running_stats=True)\n            (2): ReLU()\n            (3): Conv2d(64, 64, kernel_size=(1, 1), stride=(1, 1), bias=False)\n            (4): BatchNorm2d(64, eps=1e-05, momentum=0.1, affine=True, track_running_stats=True)\n            (5): ReLU()\n            (6): Conv2d(64, 128, kernel_size=(1, 1), stride=(1, 1), bias=False)\n            (7): BatchNorm2d(128, eps=1e-05, momentum=0.1, affine=True, track_running_stats=True)\n            (8): ReLU()\n          )\n          (2): Sequential(\n            (0): Conv2d(67, 64, kernel_size=(1, 1), stride=(1, 1), bias=False)\n            (1): BatchNorm2d(64, eps=1e-05, momentum=0.1, affine=True, track_running_stats=True)\n            (2): ReLU()\n            (3): Conv2d(64, 96, kernel_size=(1, 1), stride=(1, 1), bias=False)\n            (4): BatchNorm2d(96, eps=1e-05, momentum=0.1, affine=True, track_running_stats=True)\n            (5): ReLU()\n            (6): Conv2d(96, 128, kernel_size=(1, 1), stride=(1, 1), bias=False)\n            (7): BatchNorm2d(128, eps=1e-05, momentum=0.1, affine=True, track_running_stats=True)\n            (8): ReLU()\n          )\n        )\n        (points_sampler): Points_Sampler(\n          (samplers): ModuleList(\n            (0): FS_Sampler()\n          )\n        )\n      )\n      (2): PointnetSAModuleMSG_FPS(\n        (groupers): ModuleList(\n          (0): QueryAndGroup()\n          (1): QueryAndGroup()\n          (2): QueryAndGroup()\n        )\n        (mlps): ModuleList(\n          (0): Sequential(\n            (0): Conv2d(131, 128, kernel_size=(1, 1), stride=(1, 1), bias=False)\n            (1): BatchNorm2d(128, eps=1e-05, momentum=0.1, affine=True, track_running_stats=True)\n            (2): ReLU()\n            (3): Conv2d(128, 128, kernel_size=(1, 1), stride=(1, 1), bias=False)\n            (4): BatchNorm2d(128, eps=1e-05, momentum=0.1, affine=True, track_running_stats=True)\n            (5): ReLU()\n            (6): Conv2d(128, 256, kernel_size=(1, 1), stride=(1, 1), bias=False)\n            (7): BatchNorm2d(256, eps=1e-05, momentum=0.1, affine=True, track_running_stats=True)\n            (8): ReLU()\n          )\n          (1): Sequential(\n            (0): Conv2d(131, 128, kernel_size=(1, 1), stride=(1, 1), bias=False)\n            (1): BatchNorm2d(128, eps=1e-05, momentum=0.1, affine=True, track_running_stats=True)\n            (2): ReLU()\n            (3): Conv2d(128, 192, kernel_size=(1, 1), stride=(1, 1), bias=False)\n            (4): BatchNorm2d(192, eps=1e-05, momentum=0.1, affine=True, track_running_stats=True)\n            (5): ReLU()\n            (6): Conv2d(192, 256, kernel_size=(1, 1), stride=(1, 1), bias=False)\n            (7): BatchNorm2d(256, eps=1e-05, momentum=0.1, affine=True, track_running_stats=True)\n            (8): ReLU()\n          )\n          (2): Sequential(\n            (0): Conv2d(131, 128, kernel_size=(1, 1), stride=(1, 1), bias=False)\n            (1): BatchNorm2d(128, eps=1e-05, momentum=0.1, affine=True, track_running_stats=True)\n            (2): ReLU()\n            (3): Conv2d(128, 256, kernel_size=(1, 1), stride=(1, 1), bias=False)\n            (4): BatchNorm2d(256, eps=1e-05, momentum=0.1, affine=True, track_running_stats=True)\n            (5): ReLU()\n            (6): Conv2d(256, 256, kernel_size=(1, 1), stride=(1, 1), bias=False)\n            (7): BatchNorm2d(256, eps=1e-05, momentum=0.1, affine=True, track_running_stats=True)\n            (8): ReLU()\n          )\n        )\n        (points_sampler): Points_Sampler(\n          (samplers): ModuleList(\n            (0): FFPS_Sampler()\n            (1): DFPS_Sampler()\n          )\n        )\n      )\n    )\n    (aggregation_mlps): ModuleList(\n      (0): Sequential(\n        (0): Conv1d(128, 64, kernel_size=(1,), stride=(1,), bias=False)\n        (1): BatchNorm1d(64, eps=1e-05, momentum=0.1, affine=True, track_running_stats=True)\n        (2): ReLU()\n      )\n      (1): Sequential(\n        (0): Conv1d(384, 128, kernel_size=(1,), stride=(1,), bias=False)\n        (1): BatchNorm1d(128, eps=1e-05, momentum=0.1, affine=True, track_running_stats=True)\n        (2): ReLU()\n      )\n      (2): Sequential(\n        (0): Conv1d(768, 256, kernel_size=(1,), stride=(1,), bias=False)\n        (1): BatchNorm1d(256, eps=1e-05, momentum=0.1, affine=True, track_running_stats=True)\n        (2): ReLU()\n      )\n    )\n    (FP_modules): ModuleList()\n  )\n  (map_to_bev_module): None\n  (pfe): ImVoteModule(\n    (image_feat_module): ImageFeatureModule(\n      (image_mlps): ImageMLPModule(\n        (img_feat_conv1): Conv1d(11, 256, kernel_size=(1,), stride=(1,))\n        (img_feat_conv2): Conv1d(256, 256, kernel_size=(1,), stride=(1,))\n        (img_feat_bn1): BatchNorm1d(256, eps=1e-05, momentum=0.1, affine=True, track_running_stats=True)\n        (img_feat_bn2): BatchNorm1d(256, eps=1e-05, momentum=0.1, affine=True, track_running_stats=True)\n      )\n    )\n    (point_vote_module): VoteModule(\n      (vote_mlp): Sequential(\n        (0): Conv1d(256, 128, kernel_size=(1,), stride=(1,))\n        (1): BatchNorm1d(128, eps=1e-05, momentum=0.1, affine=True, track_running_stats=True)\n        (2): ReLU()\n        (3): Conv1d(128, 3, kernel_size=(1,), stride=(1,))\n      )\n      (vote_aggregation): PointnetSAModuleMSG_FPS(\n        (groupers): ModuleList(\n          (0): QueryAndGroup()\n          (1): QueryAndGroup()\n        )\n        (mlps): ModuleList(\n          (0): Sequential(\n            (0): Conv2d(259, 256, kernel_size=(1, 1), stride=(1, 1), bias=False)\n            (1): BatchNorm2d(256, eps=1e-05, momentum=0.1, affine=True, track_running_stats=True)\n            (2): ReLU()\n            (3): Conv2d(256, 256, kernel_size=(1, 1), stride=(1, 1), bias=False)\n            (4): BatchNorm2d(256, eps=1e-05, momentum=0.1, affine=True, track_running_stats=True)\n            (5): ReLU()\n            (6): Conv2d(256, 512, kernel_size=(1, 1), stride=(1, 1), bias=False)\n            (7): BatchNorm2d(512, eps=1e-05, momentum=0.1, affine=True, track_running_stats=True)\n            (8): ReLU()\n          )\n          (1): Sequential(\n            (0): Conv2d(259, 256, kernel_size=(1, 1), stride=(1, 1), bias=False)\n            (1): BatchNorm2d(256, eps=1e-05, momentum=0.1, affine=True, track_running_stats=True)\n            (2): ReLU()\n            (3): Conv2d(256, 512, kernel_size=(1, 1), stride=(1, 1), bias=False)\n            (4): BatchNorm2d(512, eps=1e-05, momentum=0.1, affine=True, track_running_stats=True)\n            (5): ReLU()\n            (6): Conv2d(512, 1024, kernel_size=(1, 1), stride=(1, 1), bias=False)\n            (7): BatchNorm2d(1024, eps=1e-05, momentum=0.1, affine=True, track_running_stats=True)\n            (8): ReLU()\n          )\n        )\n        (points_sampler): Points_Sampler(\n          (samplers): ModuleList(\n            (0): DFPS_Sampler()\n          )\n        )\n      )\n      (conv_out): Sequential(\n        (0): Conv1d(1536, 512, kernel_size=(1,), stride=(1,), bias=False)\n        (1): BatchNorm1d(512, eps=1e-05, momentum=0.1, affine=True, track_running_stats=True)\n        (2): ReLU()\n      )\n    )\n    (img_vote_module): VoteModule(\n      (vote_mlp): Sequential(\n        (0): Conv1d(256, 128, kernel_size=(1,), stride=(1,))\n        (1): BatchNorm1d(128, eps=1e-05, momentum=0.1, affine=True, track_running_stats=True)\n        (2): ReLU()\n        (3): Conv1d(128, 3, kernel_size=(1,), stride=(1,))\n      )\n      (vote_aggregation): PointnetSAModuleMSG_FPS(\n        (groupers): ModuleList(\n          (0): QueryAndGroup()\n          (1): QueryAndGroup()\n        )\n        (mlps): ModuleList(\n          (0): Sequential(\n            (0): Conv2d(259, 256, kernel_size=(1, 1), stride=(1, 1), bias=False)\n            (1): BatchNorm2d(256, eps=1e-05, momentum=0.1, affine=True, track_running_stats=True)\n            (2): ReLU()\n            (3): Conv2d(256, 256, kernel_size=(1, 1), stride=(1, 1), bias=False)\n            (4): BatchNorm2d(256, eps=1e-05, momentum=0.1, affine=True, track_running_stats=True)\n            (5): ReLU()\n            (6): Conv2d(256, 512, kernel_size=(1, 1), stride=(1, 1), bias=False)\n            (7): BatchNorm2d(512, eps=1e-05, momentum=0.1, affine=True, track_running_stats=True)\n            (8): ReLU()\n          )\n          (1): Sequential(\n            (0): Conv2d(259, 256, kernel_size=(1, 1), stride=(1, 1), bias=False)\n            (1): BatchNorm2d(256, eps=1e-05, momentum=0.1, affine=True, track_running_stats=True)\n            (2): ReLU()\n            (3): Conv2d(256, 512, kernel_size=(1, 1), stride=(1, 1), bias=False)\n            (4): BatchNorm2d(512, eps=1e-05, momentum=0.1, affine=True, track_running_stats=True)\n            (5): ReLU()\n            (6): Conv2d(512, 1024, kernel_size=(1, 1), stride=(1, 1), bias=False)\n            (7): BatchNorm2d(1024, eps=1e-05, momentum=0.1, affine=True, track_running_stats=True)\n            (8): ReLU()\n          )\n        )\n        (points_sampler): Points_Sampler(\n          (samplers): ModuleList(\n            (0): DFPS_Sampler()\n          )\n        )\n      )\n      (conv_out): Sequential(\n        (0): Conv1d(1536, 512, kernel_size=(1,), stride=(1,), bias=False)\n        (1): BatchNorm1d(512, eps=1e-05, momentum=0.1, affine=True, track_running_stats=True)\n        (2): ReLU()\n      )\n    )\n    (fusion_vote_module): VoteModule(\n      (vote_mlp): Sequential(\n        (0): Conv1d(512, 128, kernel_size=(1,), stride=(1,))\n        (1): BatchNorm1d(128, eps=1e-05, momentum=0.1, affine=True, track_running_stats=True)\n        (2): ReLU()\n        (3): Conv1d(128, 3, kernel_size=(1,), stride=(1,))\n      )\n      (vote_aggregation): PointnetSAModuleMSG_FPS(\n        (groupers): ModuleList(\n          (0): QueryAndGroup()\n          (1): QueryAndGroup()\n        )\n        (mlps): ModuleList(\n          (0): Sequential(\n            (0): Conv2d(515, 256, kernel_size=(1, 1), stride=(1, 1), bias=False)\n            (1): BatchNorm2d(256, eps=1e-05, momentum=0.1, affine=True, track_running_stats=True)\n            (2): ReLU()\n            (3): Conv2d(256, 256, kernel_size=(1, 1), stride=(1, 1), bias=False)\n            (4): BatchNorm2d(256, eps=1e-05, momentum=0.1, affine=True, track_running_stats=True)\n            (5): ReLU()\n            (6): Conv2d(256, 512, kernel_size=(1, 1), stride=(1, 1), bias=False)\n            (7): BatchNorm2d(512, eps=1e-05, momentum=0.1, affine=True, track_running_stats=True)\n            (8): ReLU()\n          )\n          (1): Sequential(\n            (0): Conv2d(515, 256, kernel_size=(1, 1), stride=(1, 1), bias=False)\n            (1): BatchNorm2d(256, eps=1e-05, momentum=0.1, affine=True, track_running_stats=True)\n            (2): ReLU()\n            (3): Conv2d(256, 512, kernel_size=(1, 1), stride=(1, 1), bias=False)\n            (4): BatchNorm2d(512, eps=1e-05, momentum=0.1, affine=True, track_running_stats=True)\n            (5): ReLU()\n            (6): Conv2d(512, 1024, kernel_size=(1, 1), stride=(1, 1), bias=False)\n            (7): BatchNorm2d(1024, eps=1e-05, momentum=0.1, affine=True, track_running_stats=True)\n            (8): ReLU()\n          )\n        )\n        (points_sampler): Points_Sampler(\n          (samplers): ModuleList(\n            (0): DFPS_Sampler()\n          )\n        )\n      )\n      (conv_out): Sequential(\n        (0): Conv1d(1536, 512, kernel_size=(1,), stride=(1,), bias=False)\n        (1): BatchNorm1d(512, eps=1e-05, momentum=0.1, affine=True, track_running_stats=True)\n        (2): ReLU()\n      )\n    )\n  )\n  (backbone_2d): None\n  (dense_head): None\n  (point_head): PointHeadBoxImVote(\n    (cls_loss_func): SigmoidFocalClassificationLoss()\n    (reg_loss_func): WeightedSmoothL1Loss()\n    (img_head): PointHeadBox3DSSD(\n      (cls_loss_func): SigmoidFocalClassificationLoss()\n      (reg_loss_func): WeightedSmoothL1Loss()\n      (cls_center_layers): Sequential(\n        (0): Linear(in_features=512, out_features=256, bias=False)\n        (1): BatchNorm1d(256, eps=1e-05, momentum=0.1, affine=True, track_running_stats=True)\n        (2): ReLU()\n        (3): Linear(in_features=256, out_features=256, bias=False)\n        (4): BatchNorm1d(256, eps=1e-05, momentum=0.1, affine=True, track_running_stats=True)\n        (5): ReLU()\n        (6): Linear(in_features=256, out_features=3, bias=True)\n      )\n      (box_center_layers): Sequential(\n        (0): Linear(in_features=512, out_features=256, bias=False)\n        (1): BatchNorm1d(256, eps=1e-05, momentum=0.1, affine=True, track_running_stats=True)\n        (2): ReLU()\n        (3): Linear(in_features=256, out_features=256, bias=False)\n        (4): BatchNorm1d(256, eps=1e-05, momentum=0.1, affine=True, track_running_stats=True)\n        (5): ReLU()\n        (6): Linear(in_features=256, out_features=30, bias=True)\n      )\n      (angle_bin_loss): CrossEntropyLoss()\n      (angle_res_loss): SmoothL1Loss()\n      (vote_loss): SmoothL1Loss()\n    )\n    (point_head): PointHeadBox3DSSD(\n      (cls_loss_func): SigmoidFocalClassificationLoss()\n      (reg_loss_func): WeightedSmoothL1Loss()\n      (cls_center_layers): Sequential(\n        (0): Linear(in_features=512, out_features=256, bias=False)\n        (1): BatchNorm1d(256, eps=1e-05, momentum=0.1, affine=True, track_running_stats=True)\n        (2): ReLU()\n        (3): Linear(in_features=256, out_features=256, bias=False)\n        (4): BatchNorm1d(256, eps=1e-05, momentum=0.1, affine=True, track_running_stats=True)\n        (5): ReLU()\n        (6): Linear(in_features=256, out_features=3, bias=True)\n      )\n      (box_center_layers): Sequential(\n        (0): Linear(in_features=512, out_features=256, bias=False)\n        (1): BatchNorm1d(256, eps=1e-05, momentum=0.1, affine=True, track_running_stats=True)\n        (2): ReLU()\n        (3): Linear(in_features=256, out_features=256, bias=False)\n        (4): BatchNorm1d(256, eps=1e-05, momentum=0.1, affine=True, track_running_stats=True)\n        (5): ReLU()\n        (6): Linear(in_features=256, out_features=30, bias=True)\n      )\n      (angle_bin_loss): CrossEntropyLoss()\n      (angle_res_loss): SmoothL1Loss()\n      (vote_loss): SmoothL1Loss()\n    )\n    (fusion_head): PointHeadBox3DSSD(\n      (cls_loss_func): SigmoidFocalClassificationLoss()\n      (reg_loss_func): WeightedSmoothL1Loss()\n      (cls_center_layers): Sequential(\n        (0): Linear(in_features=512, out_features=256, bias=False)\n        (1): BatchNorm1d(256, eps=1e-05, momentum=0.1, affine=True, track_running_stats=True)\n        (2): ReLU()\n        (3): Linear(in_features=256, out_features=256, bias=False)\n        (4): BatchNorm1d(256, eps=1e-05, momentum=0.1, affine=True, track_running_stats=True)\n        (5): ReLU()\n        (6): Linear(in_features=256, out_features=3, bias=True)\n      )\n      (box_center_layers): Sequential(\n        (0): Linear(in_features=512, out_features=256, bias=False)\n        (1): BatchNorm1d(256, eps=1e-05, momentum=0.1, affine=True, track_running_stats=True)\n        (2): ReLU()\n        (3): Linear(in_features=256, out_features=256, bias=False)\n        (4): BatchNorm1d(256, eps=1e-05, momentum=0.1, affine=True, track_running_stats=True)\n        (5): ReLU()\n        (6): Linear(in_features=256, out_features=30, bias=True)\n      )\n      (angle_bin_loss): CrossEntropyLoss()\n      (angle_res_loss): SmoothL1Loss()\n      (vote_loss): SmoothL1Loss()\n    )\n  )\n  (roi_head): None\n)"
     },
     "execution_count": 5,
     "metadata": {},
     "output_type": "execute_result"
    }
   ],
   "source": [
    "model = build_network(model_cfg=cfg['MODEL'], num_class=3, dataset=dataset)\n",
    "model.cuda()"
   ]
  },
  {
   "cell_type": "code",
   "execution_count": 6,
   "metadata": {
    "pycharm": {
     "name": "#%%\n"
    }
   },
   "outputs": [
    {
     "name": "stdout",
     "output_type": "stream",
     "text": [
      "SSD3D(\n",
      "  (vfe): None\n",
      "  (backbone_3d): PointNet2MSG_FPS(\n",
      "    (SA_modules): ModuleList(\n",
      "      (0): PointnetSAModuleMSG_FPS(\n",
      "        (groupers): ModuleList(\n",
      "          (0): QueryAndGroup()\n",
      "          (1): QueryAndGroup()\n",
      "          (2): QueryAndGroup()\n",
      "        )\n",
      "        (mlps): ModuleList(\n",
      "          (0): Sequential(\n",
      "            (0): Conv2d(4, 16, kernel_size=(1, 1), stride=(1, 1), bias=False)\n",
      "            (1): BatchNorm2d(16, eps=1e-05, momentum=0.1, affine=True, track_running_stats=True)\n",
      "            (2): ReLU()\n",
      "            (3): Conv2d(16, 16, kernel_size=(1, 1), stride=(1, 1), bias=False)\n",
      "            (4): BatchNorm2d(16, eps=1e-05, momentum=0.1, affine=True, track_running_stats=True)\n",
      "            (5): ReLU()\n",
      "            (6): Conv2d(16, 32, kernel_size=(1, 1), stride=(1, 1), bias=False)\n",
      "            (7): BatchNorm2d(32, eps=1e-05, momentum=0.1, affine=True, track_running_stats=True)\n",
      "            (8): ReLU()\n",
      "          )\n",
      "          (1): Sequential(\n",
      "            (0): Conv2d(4, 16, kernel_size=(1, 1), stride=(1, 1), bias=False)\n",
      "            (1): BatchNorm2d(16, eps=1e-05, momentum=0.1, affine=True, track_running_stats=True)\n",
      "            (2): ReLU()\n",
      "            (3): Conv2d(16, 16, kernel_size=(1, 1), stride=(1, 1), bias=False)\n",
      "            (4): BatchNorm2d(16, eps=1e-05, momentum=0.1, affine=True, track_running_stats=True)\n",
      "            (5): ReLU()\n",
      "            (6): Conv2d(16, 32, kernel_size=(1, 1), stride=(1, 1), bias=False)\n",
      "            (7): BatchNorm2d(32, eps=1e-05, momentum=0.1, affine=True, track_running_stats=True)\n",
      "            (8): ReLU()\n",
      "          )\n",
      "          (2): Sequential(\n",
      "            (0): Conv2d(4, 32, kernel_size=(1, 1), stride=(1, 1), bias=False)\n",
      "            (1): BatchNorm2d(32, eps=1e-05, momentum=0.1, affine=True, track_running_stats=True)\n",
      "            (2): ReLU()\n",
      "            (3): Conv2d(32, 32, kernel_size=(1, 1), stride=(1, 1), bias=False)\n",
      "            (4): BatchNorm2d(32, eps=1e-05, momentum=0.1, affine=True, track_running_stats=True)\n",
      "            (5): ReLU()\n",
      "            (6): Conv2d(32, 64, kernel_size=(1, 1), stride=(1, 1), bias=False)\n",
      "            (7): BatchNorm2d(64, eps=1e-05, momentum=0.1, affine=True, track_running_stats=True)\n",
      "            (8): ReLU()\n",
      "          )\n",
      "        )\n",
      "        (points_sampler): Points_Sampler(\n",
      "          (samplers): ModuleList(\n",
      "            (0): DFPS_Sampler()\n",
      "          )\n",
      "        )\n",
      "      )\n",
      "      (1): PointnetSAModuleMSG_FPS(\n",
      "        (groupers): ModuleList(\n",
      "          (0): QueryAndGroup()\n",
      "          (1): QueryAndGroup()\n",
      "          (2): QueryAndGroup()\n",
      "        )\n",
      "        (mlps): ModuleList(\n",
      "          (0): Sequential(\n",
      "            (0): Conv2d(67, 64, kernel_size=(1, 1), stride=(1, 1), bias=False)\n",
      "            (1): BatchNorm2d(64, eps=1e-05, momentum=0.1, affine=True, track_running_stats=True)\n",
      "            (2): ReLU()\n",
      "            (3): Conv2d(64, 64, kernel_size=(1, 1), stride=(1, 1), bias=False)\n",
      "            (4): BatchNorm2d(64, eps=1e-05, momentum=0.1, affine=True, track_running_stats=True)\n",
      "            (5): ReLU()\n",
      "            (6): Conv2d(64, 128, kernel_size=(1, 1), stride=(1, 1), bias=False)\n",
      "            (7): BatchNorm2d(128, eps=1e-05, momentum=0.1, affine=True, track_running_stats=True)\n",
      "            (8): ReLU()\n",
      "          )\n",
      "          (1): Sequential(\n",
      "            (0): Conv2d(67, 64, kernel_size=(1, 1), stride=(1, 1), bias=False)\n",
      "            (1): BatchNorm2d(64, eps=1e-05, momentum=0.1, affine=True, track_running_stats=True)\n",
      "            (2): ReLU()\n",
      "            (3): Conv2d(64, 64, kernel_size=(1, 1), stride=(1, 1), bias=False)\n",
      "            (4): BatchNorm2d(64, eps=1e-05, momentum=0.1, affine=True, track_running_stats=True)\n",
      "            (5): ReLU()\n",
      "            (6): Conv2d(64, 128, kernel_size=(1, 1), stride=(1, 1), bias=False)\n",
      "            (7): BatchNorm2d(128, eps=1e-05, momentum=0.1, affine=True, track_running_stats=True)\n",
      "            (8): ReLU()\n",
      "          )\n",
      "          (2): Sequential(\n",
      "            (0): Conv2d(67, 64, kernel_size=(1, 1), stride=(1, 1), bias=False)\n",
      "            (1): BatchNorm2d(64, eps=1e-05, momentum=0.1, affine=True, track_running_stats=True)\n",
      "            (2): ReLU()\n",
      "            (3): Conv2d(64, 96, kernel_size=(1, 1), stride=(1, 1), bias=False)\n",
      "            (4): BatchNorm2d(96, eps=1e-05, momentum=0.1, affine=True, track_running_stats=True)\n",
      "            (5): ReLU()\n",
      "            (6): Conv2d(96, 128, kernel_size=(1, 1), stride=(1, 1), bias=False)\n",
      "            (7): BatchNorm2d(128, eps=1e-05, momentum=0.1, affine=True, track_running_stats=True)\n",
      "            (8): ReLU()\n",
      "          )\n",
      "        )\n",
      "        (points_sampler): Points_Sampler(\n",
      "          (samplers): ModuleList(\n",
      "            (0): FS_Sampler()\n",
      "          )\n",
      "        )\n",
      "      )\n",
      "      (2): PointnetSAModuleMSG_FPS(\n",
      "        (groupers): ModuleList(\n",
      "          (0): QueryAndGroup()\n",
      "          (1): QueryAndGroup()\n",
      "          (2): QueryAndGroup()\n",
      "        )\n",
      "        (mlps): ModuleList(\n",
      "          (0): Sequential(\n",
      "            (0): Conv2d(131, 128, kernel_size=(1, 1), stride=(1, 1), bias=False)\n",
      "            (1): BatchNorm2d(128, eps=1e-05, momentum=0.1, affine=True, track_running_stats=True)\n",
      "            (2): ReLU()\n",
      "            (3): Conv2d(128, 128, kernel_size=(1, 1), stride=(1, 1), bias=False)\n",
      "            (4): BatchNorm2d(128, eps=1e-05, momentum=0.1, affine=True, track_running_stats=True)\n",
      "            (5): ReLU()\n",
      "            (6): Conv2d(128, 256, kernel_size=(1, 1), stride=(1, 1), bias=False)\n",
      "            (7): BatchNorm2d(256, eps=1e-05, momentum=0.1, affine=True, track_running_stats=True)\n",
      "            (8): ReLU()\n",
      "          )\n",
      "          (1): Sequential(\n",
      "            (0): Conv2d(131, 128, kernel_size=(1, 1), stride=(1, 1), bias=False)\n",
      "            (1): BatchNorm2d(128, eps=1e-05, momentum=0.1, affine=True, track_running_stats=True)\n",
      "            (2): ReLU()\n",
      "            (3): Conv2d(128, 192, kernel_size=(1, 1), stride=(1, 1), bias=False)\n",
      "            (4): BatchNorm2d(192, eps=1e-05, momentum=0.1, affine=True, track_running_stats=True)\n",
      "            (5): ReLU()\n",
      "            (6): Conv2d(192, 256, kernel_size=(1, 1), stride=(1, 1), bias=False)\n",
      "            (7): BatchNorm2d(256, eps=1e-05, momentum=0.1, affine=True, track_running_stats=True)\n",
      "            (8): ReLU()\n",
      "          )\n",
      "          (2): Sequential(\n",
      "            (0): Conv2d(131, 128, kernel_size=(1, 1), stride=(1, 1), bias=False)\n",
      "            (1): BatchNorm2d(128, eps=1e-05, momentum=0.1, affine=True, track_running_stats=True)\n",
      "            (2): ReLU()\n",
      "            (3): Conv2d(128, 256, kernel_size=(1, 1), stride=(1, 1), bias=False)\n",
      "            (4): BatchNorm2d(256, eps=1e-05, momentum=0.1, affine=True, track_running_stats=True)\n",
      "            (5): ReLU()\n",
      "            (6): Conv2d(256, 256, kernel_size=(1, 1), stride=(1, 1), bias=False)\n",
      "            (7): BatchNorm2d(256, eps=1e-05, momentum=0.1, affine=True, track_running_stats=True)\n",
      "            (8): ReLU()\n",
      "          )\n",
      "        )\n",
      "        (points_sampler): Points_Sampler(\n",
      "          (samplers): ModuleList(\n",
      "            (0): FFPS_Sampler()\n",
      "            (1): DFPS_Sampler()\n",
      "          )\n",
      "        )\n",
      "      )\n",
      "    )\n",
      "    (aggregation_mlps): ModuleList(\n",
      "      (0): Sequential(\n",
      "        (0): Conv1d(128, 64, kernel_size=(1,), stride=(1,), bias=False)\n",
      "        (1): BatchNorm1d(64, eps=1e-05, momentum=0.1, affine=True, track_running_stats=True)\n",
      "        (2): ReLU()\n",
      "      )\n",
      "      (1): Sequential(\n",
      "        (0): Conv1d(384, 128, kernel_size=(1,), stride=(1,), bias=False)\n",
      "        (1): BatchNorm1d(128, eps=1e-05, momentum=0.1, affine=True, track_running_stats=True)\n",
      "        (2): ReLU()\n",
      "      )\n",
      "      (2): Sequential(\n",
      "        (0): Conv1d(768, 256, kernel_size=(1,), stride=(1,), bias=False)\n",
      "        (1): BatchNorm1d(256, eps=1e-05, momentum=0.1, affine=True, track_running_stats=True)\n",
      "        (2): ReLU()\n",
      "      )\n",
      "    )\n",
      "    (FP_modules): ModuleList()\n",
      "  )\n",
      "  (map_to_bev_module): None\n",
      "  (pfe): ImVoteModule(\n",
      "    (image_feat_module): ImageFeatureModule(\n",
      "      (image_mlps): ImageMLPModule(\n",
      "        (img_feat_conv1): Conv1d(11, 256, kernel_size=(1,), stride=(1,))\n",
      "        (img_feat_conv2): Conv1d(256, 256, kernel_size=(1,), stride=(1,))\n",
      "        (img_feat_bn1): BatchNorm1d(256, eps=1e-05, momentum=0.1, affine=True, track_running_stats=True)\n",
      "        (img_feat_bn2): BatchNorm1d(256, eps=1e-05, momentum=0.1, affine=True, track_running_stats=True)\n",
      "      )\n",
      "    )\n",
      "    (point_vote_module): VoteModule(\n",
      "      (vote_mlp): Sequential(\n",
      "        (0): Conv1d(256, 128, kernel_size=(1,), stride=(1,))\n",
      "        (1): BatchNorm1d(128, eps=1e-05, momentum=0.1, affine=True, track_running_stats=True)\n",
      "        (2): ReLU()\n",
      "        (3): Conv1d(128, 3, kernel_size=(1,), stride=(1,))\n",
      "      )\n",
      "      (vote_aggregation): PointnetSAModuleMSG_FPS(\n",
      "        (groupers): ModuleList(\n",
      "          (0): QueryAndGroup()\n",
      "          (1): QueryAndGroup()\n",
      "        )\n",
      "        (mlps): ModuleList(\n",
      "          (0): Sequential(\n",
      "            (0): Conv2d(259, 256, kernel_size=(1, 1), stride=(1, 1), bias=False)\n",
      "            (1): BatchNorm2d(256, eps=1e-05, momentum=0.1, affine=True, track_running_stats=True)\n",
      "            (2): ReLU()\n",
      "            (3): Conv2d(256, 256, kernel_size=(1, 1), stride=(1, 1), bias=False)\n",
      "            (4): BatchNorm2d(256, eps=1e-05, momentum=0.1, affine=True, track_running_stats=True)\n",
      "            (5): ReLU()\n",
      "            (6): Conv2d(256, 512, kernel_size=(1, 1), stride=(1, 1), bias=False)\n",
      "            (7): BatchNorm2d(512, eps=1e-05, momentum=0.1, affine=True, track_running_stats=True)\n",
      "            (8): ReLU()\n",
      "          )\n",
      "          (1): Sequential(\n",
      "            (0): Conv2d(259, 256, kernel_size=(1, 1), stride=(1, 1), bias=False)\n",
      "            (1): BatchNorm2d(256, eps=1e-05, momentum=0.1, affine=True, track_running_stats=True)\n",
      "            (2): ReLU()\n",
      "            (3): Conv2d(256, 512, kernel_size=(1, 1), stride=(1, 1), bias=False)\n",
      "            (4): BatchNorm2d(512, eps=1e-05, momentum=0.1, affine=True, track_running_stats=True)\n",
      "            (5): ReLU()\n",
      "            (6): Conv2d(512, 1024, kernel_size=(1, 1), stride=(1, 1), bias=False)\n",
      "            (7): BatchNorm2d(1024, eps=1e-05, momentum=0.1, affine=True, track_running_stats=True)\n",
      "            (8): ReLU()\n",
      "          )\n",
      "        )\n",
      "        (points_sampler): Points_Sampler(\n",
      "          (samplers): ModuleList(\n",
      "            (0): DFPS_Sampler()\n",
      "          )\n",
      "        )\n",
      "      )\n",
      "      (conv_out): Sequential(\n",
      "        (0): Conv1d(1536, 512, kernel_size=(1,), stride=(1,), bias=False)\n",
      "        (1): BatchNorm1d(512, eps=1e-05, momentum=0.1, affine=True, track_running_stats=True)\n",
      "        (2): ReLU()\n",
      "      )\n",
      "    )\n",
      "    (img_vote_module): VoteModule(\n",
      "      (vote_mlp): Sequential(\n",
      "        (0): Conv1d(256, 128, kernel_size=(1,), stride=(1,))\n",
      "        (1): BatchNorm1d(128, eps=1e-05, momentum=0.1, affine=True, track_running_stats=True)\n",
      "        (2): ReLU()\n",
      "        (3): Conv1d(128, 3, kernel_size=(1,), stride=(1,))\n",
      "      )\n",
      "      (vote_aggregation): PointnetSAModuleMSG_FPS(\n",
      "        (groupers): ModuleList(\n",
      "          (0): QueryAndGroup()\n",
      "          (1): QueryAndGroup()\n",
      "        )\n",
      "        (mlps): ModuleList(\n",
      "          (0): Sequential(\n",
      "            (0): Conv2d(259, 256, kernel_size=(1, 1), stride=(1, 1), bias=False)\n",
      "            (1): BatchNorm2d(256, eps=1e-05, momentum=0.1, affine=True, track_running_stats=True)\n",
      "            (2): ReLU()\n",
      "            (3): Conv2d(256, 256, kernel_size=(1, 1), stride=(1, 1), bias=False)\n",
      "            (4): BatchNorm2d(256, eps=1e-05, momentum=0.1, affine=True, track_running_stats=True)\n",
      "            (5): ReLU()\n",
      "            (6): Conv2d(256, 512, kernel_size=(1, 1), stride=(1, 1), bias=False)\n",
      "            (7): BatchNorm2d(512, eps=1e-05, momentum=0.1, affine=True, track_running_stats=True)\n",
      "            (8): ReLU()\n",
      "          )\n",
      "          (1): Sequential(\n",
      "            (0): Conv2d(259, 256, kernel_size=(1, 1), stride=(1, 1), bias=False)\n",
      "            (1): BatchNorm2d(256, eps=1e-05, momentum=0.1, affine=True, track_running_stats=True)\n",
      "            (2): ReLU()\n",
      "            (3): Conv2d(256, 512, kernel_size=(1, 1), stride=(1, 1), bias=False)\n",
      "            (4): BatchNorm2d(512, eps=1e-05, momentum=0.1, affine=True, track_running_stats=True)\n",
      "            (5): ReLU()\n",
      "            (6): Conv2d(512, 1024, kernel_size=(1, 1), stride=(1, 1), bias=False)\n",
      "            (7): BatchNorm2d(1024, eps=1e-05, momentum=0.1, affine=True, track_running_stats=True)\n",
      "            (8): ReLU()\n",
      "          )\n",
      "        )\n",
      "        (points_sampler): Points_Sampler(\n",
      "          (samplers): ModuleList(\n",
      "            (0): DFPS_Sampler()\n",
      "          )\n",
      "        )\n",
      "      )\n",
      "      (conv_out): Sequential(\n",
      "        (0): Conv1d(1536, 512, kernel_size=(1,), stride=(1,), bias=False)\n",
      "        (1): BatchNorm1d(512, eps=1e-05, momentum=0.1, affine=True, track_running_stats=True)\n",
      "        (2): ReLU()\n",
      "      )\n",
      "    )\n",
      "    (fusion_vote_module): VoteModule(\n",
      "      (vote_mlp): Sequential(\n",
      "        (0): Conv1d(512, 128, kernel_size=(1,), stride=(1,))\n",
      "        (1): BatchNorm1d(128, eps=1e-05, momentum=0.1, affine=True, track_running_stats=True)\n",
      "        (2): ReLU()\n",
      "        (3): Conv1d(128, 3, kernel_size=(1,), stride=(1,))\n",
      "      )\n",
      "      (vote_aggregation): PointnetSAModuleMSG_FPS(\n",
      "        (groupers): ModuleList(\n",
      "          (0): QueryAndGroup()\n",
      "          (1): QueryAndGroup()\n",
      "        )\n",
      "        (mlps): ModuleList(\n",
      "          (0): Sequential(\n",
      "            (0): Conv2d(515, 256, kernel_size=(1, 1), stride=(1, 1), bias=False)\n",
      "            (1): BatchNorm2d(256, eps=1e-05, momentum=0.1, affine=True, track_running_stats=True)\n",
      "            (2): ReLU()\n",
      "            (3): Conv2d(256, 256, kernel_size=(1, 1), stride=(1, 1), bias=False)\n",
      "            (4): BatchNorm2d(256, eps=1e-05, momentum=0.1, affine=True, track_running_stats=True)\n",
      "            (5): ReLU()\n",
      "            (6): Conv2d(256, 512, kernel_size=(1, 1), stride=(1, 1), bias=False)\n",
      "            (7): BatchNorm2d(512, eps=1e-05, momentum=0.1, affine=True, track_running_stats=True)\n",
      "            (8): ReLU()\n",
      "          )\n",
      "          (1): Sequential(\n",
      "            (0): Conv2d(515, 256, kernel_size=(1, 1), stride=(1, 1), bias=False)\n",
      "            (1): BatchNorm2d(256, eps=1e-05, momentum=0.1, affine=True, track_running_stats=True)\n",
      "            (2): ReLU()\n",
      "            (3): Conv2d(256, 512, kernel_size=(1, 1), stride=(1, 1), bias=False)\n",
      "            (4): BatchNorm2d(512, eps=1e-05, momentum=0.1, affine=True, track_running_stats=True)\n",
      "            (5): ReLU()\n",
      "            (6): Conv2d(512, 1024, kernel_size=(1, 1), stride=(1, 1), bias=False)\n",
      "            (7): BatchNorm2d(1024, eps=1e-05, momentum=0.1, affine=True, track_running_stats=True)\n",
      "            (8): ReLU()\n",
      "          )\n",
      "        )\n",
      "        (points_sampler): Points_Sampler(\n",
      "          (samplers): ModuleList(\n",
      "            (0): DFPS_Sampler()\n",
      "          )\n",
      "        )\n",
      "      )\n",
      "      (conv_out): Sequential(\n",
      "        (0): Conv1d(1536, 512, kernel_size=(1,), stride=(1,), bias=False)\n",
      "        (1): BatchNorm1d(512, eps=1e-05, momentum=0.1, affine=True, track_running_stats=True)\n",
      "        (2): ReLU()\n",
      "      )\n",
      "    )\n",
      "  )\n",
      "  (backbone_2d): None\n",
      "  (dense_head): None\n",
      "  (point_head): PointHeadBoxImVote(\n",
      "    (cls_loss_func): SigmoidFocalClassificationLoss()\n",
      "    (reg_loss_func): WeightedSmoothL1Loss()\n",
      "    (img_head): PointHeadBox3DSSD(\n",
      "      (cls_loss_func): SigmoidFocalClassificationLoss()\n",
      "      (reg_loss_func): WeightedSmoothL1Loss()\n",
      "      (cls_center_layers): Sequential(\n",
      "        (0): Linear(in_features=512, out_features=256, bias=False)\n",
      "        (1): BatchNorm1d(256, eps=1e-05, momentum=0.1, affine=True, track_running_stats=True)\n",
      "        (2): ReLU()\n",
      "        (3): Linear(in_features=256, out_features=256, bias=False)\n",
      "        (4): BatchNorm1d(256, eps=1e-05, momentum=0.1, affine=True, track_running_stats=True)\n",
      "        (5): ReLU()\n",
      "        (6): Linear(in_features=256, out_features=3, bias=True)\n",
      "      )\n",
      "      (box_center_layers): Sequential(\n",
      "        (0): Linear(in_features=512, out_features=256, bias=False)\n",
      "        (1): BatchNorm1d(256, eps=1e-05, momentum=0.1, affine=True, track_running_stats=True)\n",
      "        (2): ReLU()\n",
      "        (3): Linear(in_features=256, out_features=256, bias=False)\n",
      "        (4): BatchNorm1d(256, eps=1e-05, momentum=0.1, affine=True, track_running_stats=True)\n",
      "        (5): ReLU()\n",
      "        (6): Linear(in_features=256, out_features=30, bias=True)\n",
      "      )\n",
      "      (angle_bin_loss): CrossEntropyLoss()\n",
      "      (angle_res_loss): SmoothL1Loss()\n",
      "      (vote_loss): SmoothL1Loss()\n",
      "    )\n",
      "    (point_head): PointHeadBox3DSSD(\n",
      "      (cls_loss_func): SigmoidFocalClassificationLoss()\n",
      "      (reg_loss_func): WeightedSmoothL1Loss()\n",
      "      (cls_center_layers): Sequential(\n",
      "        (0): Linear(in_features=512, out_features=256, bias=False)\n",
      "        (1): BatchNorm1d(256, eps=1e-05, momentum=0.1, affine=True, track_running_stats=True)\n",
      "        (2): ReLU()\n",
      "        (3): Linear(in_features=256, out_features=256, bias=False)\n",
      "        (4): BatchNorm1d(256, eps=1e-05, momentum=0.1, affine=True, track_running_stats=True)\n",
      "        (5): ReLU()\n",
      "        (6): Linear(in_features=256, out_features=3, bias=True)\n",
      "      )\n",
      "      (box_center_layers): Sequential(\n",
      "        (0): Linear(in_features=512, out_features=256, bias=False)\n",
      "        (1): BatchNorm1d(256, eps=1e-05, momentum=0.1, affine=True, track_running_stats=True)\n",
      "        (2): ReLU()\n",
      "        (3): Linear(in_features=256, out_features=256, bias=False)\n",
      "        (4): BatchNorm1d(256, eps=1e-05, momentum=0.1, affine=True, track_running_stats=True)\n",
      "        (5): ReLU()\n",
      "        (6): Linear(in_features=256, out_features=30, bias=True)\n",
      "      )\n",
      "      (angle_bin_loss): CrossEntropyLoss()\n",
      "      (angle_res_loss): SmoothL1Loss()\n",
      "      (vote_loss): SmoothL1Loss()\n",
      "    )\n",
      "    (fusion_head): PointHeadBox3DSSD(\n",
      "      (cls_loss_func): SigmoidFocalClassificationLoss()\n",
      "      (reg_loss_func): WeightedSmoothL1Loss()\n",
      "      (cls_center_layers): Sequential(\n",
      "        (0): Linear(in_features=512, out_features=256, bias=False)\n",
      "        (1): BatchNorm1d(256, eps=1e-05, momentum=0.1, affine=True, track_running_stats=True)\n",
      "        (2): ReLU()\n",
      "        (3): Linear(in_features=256, out_features=256, bias=False)\n",
      "        (4): BatchNorm1d(256, eps=1e-05, momentum=0.1, affine=True, track_running_stats=True)\n",
      "        (5): ReLU()\n",
      "        (6): Linear(in_features=256, out_features=3, bias=True)\n",
      "      )\n",
      "      (box_center_layers): Sequential(\n",
      "        (0): Linear(in_features=512, out_features=256, bias=False)\n",
      "        (1): BatchNorm1d(256, eps=1e-05, momentum=0.1, affine=True, track_running_stats=True)\n",
      "        (2): ReLU()\n",
      "        (3): Linear(in_features=256, out_features=256, bias=False)\n",
      "        (4): BatchNorm1d(256, eps=1e-05, momentum=0.1, affine=True, track_running_stats=True)\n",
      "        (5): ReLU()\n",
      "        (6): Linear(in_features=256, out_features=30, bias=True)\n",
      "      )\n",
      "      (angle_bin_loss): CrossEntropyLoss()\n",
      "      (angle_res_loss): SmoothL1Loss()\n",
      "      (vote_loss): SmoothL1Loss()\n",
      "    )\n",
      "  )\n",
      "  (roi_head): None\n",
      ")\n"
     ]
    }
   ],
   "source": [
    "print(model)\n"
   ]
  },
  {
   "cell_type": "code",
   "execution_count": 7,
   "outputs": [
    {
     "name": "stdout",
     "output_type": "stream",
     "text": [
      "{'cls_id': [1, 1, 1, 1, 2, 2], 'cls_score': [0.99626, 0.984963, 0.662021, 0.529798, 0.63587, 0.527812], 'bbox_2d': [array([525, 172, 735, 367], dtype=int32), array([1033,  177, 1175,  217], dtype=int32), array([175, 193, 204, 206], dtype=int32), array([698, 193, 763, 243], dtype=int32), array([638, 198, 683, 245], dtype=int32), array([566, 196, 609, 238], dtype=int32)]}{'cls_id': [1, 1, 1, 1, 1, 1], 'cls_score': [0.998925, 0.995367, 0.994282, 0.966971, 0.860621, 0.529648], 'bbox_2d': [array([173, 195, 436, 352], dtype=int32), array([432, 178, 486, 212], dtype=int32), array([502, 174, 585, 249], dtype=int32), array([598, 178, 640, 212], dtype=int32), array([579, 173, 617, 205], dtype=int32), array([658, 176, 669, 185], dtype=int32)]}{'cls_id': [1, 2], 'cls_score': [0.757571, 0.722649], 'bbox_2d': [array([527, 176, 556, 198], dtype=int32), array([608, 174, 617, 192], dtype=int32)]}\n",
      "\n",
      "\n",
      "{'cls_id': [1, 1, 1, 1, 1, 1, 1, 1, 1, 1, 1, 2, 2, 2], 'cls_score': [0.996867, 0.993518, 0.992652, 0.992638, 0.931053, 0.930899, 0.907481, 0.724856, 0.65933, 0.61626, 0.5576, 0.790458, 0.715433, 0.58889], 'bbox_2d': [array([525, 172, 735, 368], dtype=int32), array([226, 189, 295, 221], dtype=int32), array([  0, 207,  32, 236], dtype=int32), array([ 81, 197, 173, 230], dtype=int32), array([376, 181, 412, 205], dtype=int32), array([335, 185, 376, 207], dtype=int32), array([417, 177, 462, 202], dtype=int32), array([462, 178, 479, 188], dtype=int32), array([171, 193, 205, 207], dtype=int32), array([400, 181, 419, 203], dtype=int32), array([698, 193, 765, 243], dtype=int32), array([497, 175, 509, 201], dtype=int32), array([639, 199, 683, 246], dtype=int32), array([566, 196, 613, 243], dtype=int32)]}\n",
      "{'cls_id': [2, 2], 'cls_score': [0.995919, 0.790541], 'bbox_2d': [array([ 957,  153, 1027,  305], dtype=int32), array([1039,  231, 1057,  259], dtype=int32)]}\n",
      "{'cls_id': [1], 'cls_score': [0.996378], 'bbox_2d': [array([248, 195, 443, 331], dtype=int32)]}\n",
      "{'cls_id': [2, 2, 2, 2, 2, 2, 2, 2, 2, 2, 2, 2, 2, 2, 2, 2, 2], 'cls_score': [0.996008, 0.994098, 0.977835, 0.920756, 0.885434, 0.722347, 0.705862, 0.693787, 0.645277, 0.639983, 0.634402, 0.630326, 0.552161, 0.545744, 0.526453, 0.515618, 0.513768], 'bbox_2d': [array([787, 160, 810, 224], dtype=int32), array([813, 164, 836, 224], dtype=int32), array([182, 164, 206, 222], dtype=int32), array([844, 160, 866, 221], dtype=int32), array([473, 172, 484, 203], dtype=int32), array([743, 166, 752, 193], dtype=int32), array([445, 166, 455, 196], dtype=int32), array([204, 151, 226, 203], dtype=int32), array([513, 169, 523, 195], dtype=int32), array([499, 167, 508, 191], dtype=int32), array([100, 202, 137, 268], dtype=int32), array([740, 168, 749, 194], dtype=int32), array([714, 173, 725, 205], dtype=int32), array([459, 170, 469, 194], dtype=int32), array([716, 171, 733, 219], dtype=int32), array([675, 157, 687, 194], dtype=int32), array([747, 166, 757, 191], dtype=int32)]}\n",
      "{'cls_id': [1, 1, 1, 1, 1], 'cls_score': [0.994892, 0.986578, 0.980142, 0.951895, 0.72622], 'bbox_2d': [array([466, 161, 560, 235], dtype=int32), array([605, 155, 630, 175], dtype=int32), array([ 998,  128, 1238,  265], dtype=int32), array([554, 156, 601, 198], dtype=int32), array([532, 163, 568, 216], dtype=int32)]}\n",
      "{'cls_id': [1, 1], 'cls_score': [0.983835, 0.954098], 'bbox_2d': [array([ 979,  183, 1020,  216], dtype=int32), array([1054,  179, 1085,  206], dtype=int32)]}\n",
      "\n",
      "{'cls_id': [1, 1, 1, 1, 1, 1, 3], 'cls_score': [0.993617, 0.931593, 0.93016, 0.93001, 0.674819, 0.647342, 0.896194], 'bbox_2d': [array([334, 183, 456, 223], dtype=int32), array([519, 181, 562, 195], dtype=int32), array([597, 176, 624, 190], dtype=int32), array([470, 179, 492, 194], dtype=int32), array([533, 184, 565, 196], dtype=int32), array([597, 177, 609, 189], dtype=int32), array([  1, 180,  44, 262], dtype=int32)]}{'cls_id': [1, 1, 1, 1, 1], 'cls_score': [0.982304, 0.97845, 0.938202, 0.620901, 0.517259], 'bbox_2d': [array([658, 178, 700, 210], dtype=int32), array([760, 193, 971, 312], dtype=int32), array([754, 178, 807, 212], dtype=int32), array([627, 173, 639, 184], dtype=int32), array([872, 180, 988, 245], dtype=int32)]}\n",
      "{'cls_id': [1, 1, 1, 1, 1], 'cls_score': [0.995348, 0.994029, 0.98832, 0.904239, 0.862731], 'bbox_2d': [array([174, 197, 441, 352], dtype=int32), array([486, 177, 580, 257], dtype=int32), array([410, 181, 474, 218], dtype=int32), array([597, 176, 642, 217], dtype=int32), array([572, 175, 607, 207], dtype=int32)]}\n",
      "{'cls_id': [1, 1, 1, 1, 1, 1], 'cls_score': [0.998431, 0.979028, 0.962793, 0.95789, 0.796272, 0.608257], 'bbox_2d': [array([226, 191, 371, 268], dtype=int32), array([515, 174, 566, 201], dtype=int32), array([636, 171, 664, 193], dtype=int32), array([667, 169, 693, 193], dtype=int32), array([696, 169, 714, 187], dtype=int32), array([535, 173, 570, 196], dtype=int32)]}\n",
      "{'cls_id': [1, 1, 1, 1, 1, 1, 2], 'cls_score': [0.978117, 0.951629, 0.915425, 0.914168, 0.866136, 0.596462, 0.993533], 'bbox_2d': [array([243, 185, 295, 211], dtype=int32), array([512, 178, 546, 197], dtype=int32), array([341, 168, 463, 238], dtype=int32), array([558, 178, 588, 196], dtype=int32), array([536, 180, 561, 195], dtype=int32), array([335, 192, 380, 236], dtype=int32), array([306, 176, 337, 268], dtype=int32)]}\n",
      "{'cls_id': [1, 1, 1, 1, 1, 1, 1], 'cls_score': [0.993938, 0.993918, 0.989486, 0.982898, 0.962794, 0.953834, 0.925886], 'bbox_2d': [array([564, 181, 617, 228], dtype=int32), array([486, 180, 522, 209], dtype=int32), array([ 942,  170, 1005,  191], dtype=int32), array([1192,  148, 1232,  208], dtype=int32), array([535, 180, 555, 194], dtype=int32), array([625, 175, 639, 188], dtype=int32), array([607, 178, 626, 195], dtype=int32)]}\n",
      "{'cls_id': [1, 1, 1, 1, 1, 1, 1, 1, 1, 1, 1, 1], 'cls_score': [0.998423, 0.996268, 0.991311, 0.990075, 0.988861, 0.985366, 0.982299, 0.970215, 0.90949, 0.907218, 0.848422, 0.672047], 'bbox_2d': [array([718, 178, 837, 244], dtype=int32), array([  0, 200,  78, 290], dtype=int32), array([592, 178, 661, 237], dtype=int32), array([156, 182, 349, 280], dtype=int32), array([ 67, 178, 235, 267], dtype=int32), array([332, 181, 391, 225], dtype=int32), array([571, 171, 602, 197], dtype=int32), array([440, 181, 513, 219], dtype=int32), array([662, 174, 685, 191], dtype=int32), array([814, 177, 996, 288], dtype=int32), array([ 24, 190, 106, 223], dtype=int32), array([698, 174, 717, 188], dtype=int32)]}\n",
      "{'cls_id': [1, 1, 1, 1, 1, 1, 1, 1, 1, 1, 1, 1, 2, 2, 2], 'cls_score': [0.996366, 0.964753, 0.952064, 0.943315, 0.940292, 0.935245, 0.923302, 0.718817, 0.673104, 0.654054, 0.55277, 0.501963, 0.995993, 0.994959, 0.626284], 'bbox_2d': [array([568, 189, 637, 249], dtype=int32), array([406, 190, 450, 214], dtype=int32), array([483, 185, 505, 202], dtype=int32), array([531, 180, 545, 191], dtype=int32), array([  0, 162, 239, 336], dtype=int32), array([472, 186, 502, 203], dtype=int32), array([232, 190, 322, 256], dtype=int32), array([642, 180, 663, 196], dtype=int32), array([481, 188, 497, 203], dtype=int32), array([548, 178, 562, 189], dtype=int32), array([619, 181, 646, 198], dtype=int32), array([514, 181, 527, 191], dtype=int32), array([1194,  165, 1240,  275], dtype=int32), array([1122,  176, 1183,  269], dtype=int32), array([499, 192, 515, 222], dtype=int32)]}\n"
     ]
    }
   ],
   "source": [
    "data_batch = next(iter(dataloader))"
   ],
   "metadata": {
    "collapsed": false,
    "pycharm": {
     "name": "#%%\n"
    }
   }
  },
  {
   "cell_type": "code",
   "execution_count": 8,
   "outputs": [
    {
     "data": {
      "text/plain": "dict_keys(['points', 'frame_id', 'calib', 'gt_boxes', 'road_plane', 'cls_score_feats', 'full_img_votes_1d', 'full_img_1d', 'full_img_width', 'full_img_height', 'use_lead_xyz', 'batch_size'])"
     },
     "execution_count": 8,
     "metadata": {},
     "output_type": "execute_result"
    }
   ],
   "source": [
    "data_batch.keys()"
   ],
   "metadata": {
    "collapsed": false,
    "pycharm": {
     "name": "#%%\n"
    }
   }
  },
  {
   "cell_type": "code",
   "execution_count": 9,
   "outputs": [],
   "source": [
    "def load_data_to_gpu(batch_dict):\n",
    "    for key, val in batch_dict.items():\n",
    "        if not isinstance(val, np.ndarray):\n",
    "            continue\n",
    "        if key in ['frame_id', 'metadata', 'calib', 'image_shape']:\n",
    "            continue\n",
    "        batch_dict[key] = torch.from_numpy(val).float().cuda()\n",
    "\n",
    "load_data_to_gpu(data_batch)"
   ],
   "metadata": {
    "collapsed": false,
    "pycharm": {
     "name": "#%%\n"
    }
   }
  },
  {
   "cell_type": "code",
   "execution_count": 10,
   "outputs": [
    {
     "name": "stdout",
     "output_type": "stream",
     "text": [
      "img_ torch.Size([2, 256, 1024]) torch.Size([2, 768, 3]) torch.Size([2, 256, 3])\n",
      "point_ torch.Size([2, 256, 1024]) torch.Size([2, 768, 3]) torch.Size([2, 256, 3])\n",
      "fusion_ torch.Size([2, 512, 1024]) torch.Size([2, 768, 3]) torch.Size([2, 256, 3])\n"
     ]
    },
    {
     "data": {
      "text/plain": "({'loss': tensor(221.7804, device='cuda:0', grad_fn=<AddBackward0>)},\n {'img_vote_loss': 1.2471857070922852,\n  'img_center_loss_cls': 261.65966796875,\n  'img_center_pos_num': 4.0,\n  'img_box_res_loss': 1.097867727279663,\n  'img_angle_res_loss': 0.19716744124889374,\n  'img_angle_bin_loss': 2.373516321182251,\n  'img_angle_loss': 2.570683717727661,\n  'img_corner_loss_reg': 1.1676225662231445,\n  'point_vote_loss': 0.9483085870742798,\n  'point_center_loss_cls': 231.0950927734375,\n  'point_center_pos_num': 5.0,\n  'point_box_res_loss': 1.8554918766021729,\n  'point_angle_res_loss': 0.202121764421463,\n  'point_angle_bin_loss': 2.356865882873535,\n  'point_angle_loss': 2.558987617492676,\n  'point_corner_loss_reg': 1.4155008792877197,\n  'fusion_vote_loss': 0.5982701182365417,\n  'fusion_center_loss_cls': 166.75404357910156,\n  'fusion_center_pos_num': 7.0,\n  'fusion_box_res_loss': 1.8167188167572021,\n  'fusion_angle_res_loss': 1.25178861618042,\n  'fusion_angle_bin_loss': 2.43003511428833,\n  'fusion_angle_loss': 3.68182373046875,\n  'fusion_corner_loss_reg': 2.387789487838745},\n {})"
     },
     "execution_count": 10,
     "metadata": {},
     "output_type": "execute_result"
    }
   ],
   "source": [
    "model(data_batch)"
   ],
   "metadata": {
    "collapsed": false,
    "pycharm": {
     "name": "#%%\n"
    }
   }
  },
  {
   "cell_type": "code",
   "execution_count": null,
   "outputs": [],
   "source": [],
   "metadata": {
    "collapsed": false,
    "pycharm": {
     "name": "#%%\n"
    }
   }
  }
 ],
 "metadata": {
  "kernelspec": {
   "display_name": "Python 3",
   "language": "python",
   "name": "python3"
  },
  "language_info": {
   "codemirror_mode": {
    "name": "ipython",
    "version": 3
   },
   "file_extension": ".py",
   "mimetype": "text/x-python",
   "name": "python",
   "nbconvert_exporter": "python",
   "pygments_lexer": "ipython3",
   "version": "3.7.9"
  }
 },
 "nbformat": 4,
 "nbformat_minor": 1
}